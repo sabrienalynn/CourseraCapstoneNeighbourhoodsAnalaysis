{
 "cells": [
  {
   "cell_type": "markdown",
   "metadata": {},
   "source": [
    "<h1> Battle of the Neighbourhoods </h1>"
   ]
  },
  {
   "cell_type": "markdown",
   "metadata": {},
   "source": [
    "<h3>Week4: Review Criteria </h3>\n",
    "<h4> For this week, you will required to submit the following: </h4>"
   ]
  },
  {
   "cell_type": "markdown",
   "metadata": {},
   "source": [
    "- A description of the problem and a discussion of the background. (15 marks)\n",
    "- A description of the data and how it will be used to solve the problem. (15 marks)\n",
    "- Use the Notebook to build the code to scrape the following Wikipedia page, https://en.wikipedia.org/wiki/List_of_postal_codes_of_Canada:_M,"
   ]
  },
  {
   "cell_type": "markdown",
   "metadata": {},
   "source": [
    "<h4> 1. Problem/Discussion Background </h4>"
   ]
  },
  {
   "cell_type": "markdown",
   "metadata": {},
   "source": [
    "My assessment will cover multiple areas in analyzing the data across the Neighbourhoods of Toronto. The objective of this tasks is too dig deep onto what location is a best fit for relocation, analyzing and pulling data from applications like foursquare, wikipedia and other potential other websites for validation. By the end of this notebook, I will have;\n",
    "- defined the situation, backgorund, objectives\n",
    "- description of the data to be used, how it will be used and other supporting information which will support week 5 of this lab. \n",
    "\n",
    "Situation: I've recived a job offer to a new company on the other side of the city. This role comes with great career prospects, opporunties and pay increase. Before transition and acceptance, I need to assess the location I want to move, by analysing different neighbourhoods in the area. \n",
    "\n",
    "Background: I live West side of the City of Toronto in Canada. My neighbourhood is safe, has great amenities, cafes, parks and more. Pharamacies nearby, schools, a place to raise children. Given the distance between the offer and current residence, I would either need to decline the offer or move. \n",
    "\n",
    "Objective: To relocate I need to find a simular neighborhood with much to offer.\n",
    "\n",
    "Current assessments have been completed about Tornto through Week3 this of this lab, looking at postal codes, analyzing clusters in and around Toronto. This assessment will be a continuation, looking into more innovative ways to assess viability and creativity of analysis skills acquired throughout the data science course. "
   ]
  },
  {
   "cell_type": "markdown",
   "metadata": {},
   "source": [
    "<h4> 2. Data Solving the Problems </h4>"
   ]
  },
  {
   "cell_type": "markdown",
   "metadata": {},
   "source": [
    "To analyse the neighhbourhoods I will use the following data sources;\n",
    "- Pulling data from Toronto neighbourhoods using the following Wikipedia page, https://en.wikipedia.org/wiki/List_of_postal_codes_of_Canada:_M,\n",
    "- Using the foursquare web application to access locations, tips, and options in particular neighbourhoods https://foursquare.com/\n",
    "- Using online resources to understand saftey within the top rated neighbourhoods\n",
    "    - there is a crime map available on https://data.torontopolice.on.ca/pages/maps\n",
    "- Using for housing prices \n",
    "- Additional city data can be found https://www.toronto.ca/city-government/data-research-maps/toronto-economy-labour-force-demographics/ where I can anlayse \n",
    "    - property\n",
    "    - income\n",
    "Additional data may be used throughout to help validate research. \n",
    "\n",
    "Useability: To use this data, I will be conducting the following activties;\n",
    " - Pulling data from an API extract within Python\n",
    " - Clean data to narrow specific demogrpahics\n",
    " - Wraggle data to fit into graphs and charts for better analysis\n",
    " - Create dataframs to store new data that cannot be pulled from online sources\n",
    " - Rate data on importance \n",
    " \n",
    " Once I have a complete dataset, I will analyse and make a decision if I shall move or not move. Weighing out the pros/cons in a statistical manner. "
   ]
  }
 ],
 "metadata": {
  "kernelspec": {
   "display_name": "Python",
   "language": "python",
   "name": "conda-env-python-py"
  },
  "language_info": {
   "codemirror_mode": {
    "name": "ipython",
    "version": 3
   },
   "file_extension": ".py",
   "mimetype": "text/x-python",
   "name": "python",
   "nbconvert_exporter": "python",
   "pygments_lexer": "ipython3",
   "version": "3.6.12"
  }
 },
 "nbformat": 4,
 "nbformat_minor": 4
}
